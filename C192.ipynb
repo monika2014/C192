{
 "cells": [
  {
   "cell_type": "code",
   "execution_count": 124,
   "metadata": {},
   "outputs": [
    {
     "name": "stdout",
     "output_type": "stream",
     "text": [
      "Name :\n",
      "We will learn how to perform group by operation and count number of Missions as per the company, and plot a bar graph out of it\n",
      "We will learn how to perform group by operation and count the status of the Missions, and plot a pie chart out of it\n",
      "We will learn how to search the number of active rockets, and perform group by operation and count number of active rockets as per the company and plot a bar graph out of it\n"
     ]
    }
   ],
   "source": [
    "print(\"Name :\")\n",
    "print(\"We will learn how to perform group by operation and count number of Missions as per the company, and plot a bar graph out of it\")\n",
    "print(\"We will learn how to perform group by operation and count the status of the Missions, and plot a pie chart out of it\")\n",
    "print(\"We will learn how to search the number of active rockets, and perform group by operation and count number of active rockets as per the company and plot a bar graph out of it\")\n"
   ]
  },
  {
   "cell_type": "code",
   "execution_count": 120,
   "metadata": {},
   "outputs": [
    {
     "data": {
      "text/html": [
       "<div>\n",
       "<style scoped>\n",
       "    .dataframe tbody tr th:only-of-type {\n",
       "        vertical-align: middle;\n",
       "    }\n",
       "\n",
       "    .dataframe tbody tr th {\n",
       "        vertical-align: top;\n",
       "    }\n",
       "\n",
       "    .dataframe thead th {\n",
       "        text-align: right;\n",
       "    }\n",
       "</style>\n",
       "<table border=\"1\" class=\"dataframe\">\n",
       "  <thead>\n",
       "    <tr style=\"text-align: right;\">\n",
       "      <th></th>\n",
       "      <th>Unnamed: 0</th>\n",
       "      <th>Unnamed: 0.1</th>\n",
       "      <th>Company Name</th>\n",
       "      <th>Location</th>\n",
       "      <th>Datum</th>\n",
       "      <th>Detail</th>\n",
       "      <th>Status Rocket</th>\n",
       "      <th>Rocket</th>\n",
       "      <th>Status Mission</th>\n",
       "    </tr>\n",
       "  </thead>\n",
       "  <tbody>\n",
       "    <tr>\n",
       "      <th>0</th>\n",
       "      <td>0</td>\n",
       "      <td>0</td>\n",
       "      <td>SpaceX</td>\n",
       "      <td>LC-39A, Kennedy Space Center, Florida, USA</td>\n",
       "      <td>Fri Aug 07, 2020 05:12 UTC</td>\n",
       "      <td>Falcon 9 Block 5 | Starlink V1 L9 &amp; BlackSky</td>\n",
       "      <td>StatusActive</td>\n",
       "      <td>50.0</td>\n",
       "      <td>Success</td>\n",
       "    </tr>\n",
       "    <tr>\n",
       "      <th>1</th>\n",
       "      <td>1</td>\n",
       "      <td>1</td>\n",
       "      <td>CASC</td>\n",
       "      <td>Site 9401 (SLS-2), Jiuquan Satellite Launch Ce...</td>\n",
       "      <td>Thu Aug 06, 2020 04:01 UTC</td>\n",
       "      <td>Long March 2D | Gaofen-9 04 &amp; Q-SAT</td>\n",
       "      <td>StatusActive</td>\n",
       "      <td>29.75</td>\n",
       "      <td>Success</td>\n",
       "    </tr>\n",
       "    <tr>\n",
       "      <th>3</th>\n",
       "      <td>3</td>\n",
       "      <td>3</td>\n",
       "      <td>Roscosmos</td>\n",
       "      <td>Site 200/39, Baikonur Cosmodrome, Kazakhstan</td>\n",
       "      <td>Thu Jul 30, 2020 21:25 UTC</td>\n",
       "      <td>Proton-M/Briz-M | Ekspress-80 &amp; Ekspress-103</td>\n",
       "      <td>StatusActive</td>\n",
       "      <td>65.0</td>\n",
       "      <td>Success</td>\n",
       "    </tr>\n",
       "    <tr>\n",
       "      <th>4</th>\n",
       "      <td>4</td>\n",
       "      <td>4</td>\n",
       "      <td>ULA</td>\n",
       "      <td>SLC-41, Cape Canaveral AFS, Florida, USA</td>\n",
       "      <td>Thu Jul 30, 2020 11:50 UTC</td>\n",
       "      <td>Atlas V 541 | Perseverance</td>\n",
       "      <td>StatusActive</td>\n",
       "      <td>145.0</td>\n",
       "      <td>Success</td>\n",
       "    </tr>\n",
       "    <tr>\n",
       "      <th>5</th>\n",
       "      <td>5</td>\n",
       "      <td>5</td>\n",
       "      <td>CASC</td>\n",
       "      <td>LC-9, Taiyuan Satellite Launch Center, China</td>\n",
       "      <td>Sat Jul 25, 2020 03:13 UTC</td>\n",
       "      <td>Long March 4B | Ziyuan-3 03, Apocalypse-10 &amp; N...</td>\n",
       "      <td>StatusActive</td>\n",
       "      <td>64.68</td>\n",
       "      <td>Success</td>\n",
       "    </tr>\n",
       "    <tr>\n",
       "      <th>...</th>\n",
       "      <td>...</td>\n",
       "      <td>...</td>\n",
       "      <td>...</td>\n",
       "      <td>...</td>\n",
       "      <td>...</td>\n",
       "      <td>...</td>\n",
       "      <td>...</td>\n",
       "      <td>...</td>\n",
       "      <td>...</td>\n",
       "    </tr>\n",
       "    <tr>\n",
       "      <th>3855</th>\n",
       "      <td>3855</td>\n",
       "      <td>3855</td>\n",
       "      <td>US Air Force</td>\n",
       "      <td>SLC-4W, Vandenberg AFB, California, USA</td>\n",
       "      <td>Fri Jul 29, 1966 18:43 UTC</td>\n",
       "      <td>Titan IIIB | KH-8</td>\n",
       "      <td>StatusRetired</td>\n",
       "      <td>59.0</td>\n",
       "      <td>Success</td>\n",
       "    </tr>\n",
       "    <tr>\n",
       "      <th>3971</th>\n",
       "      <td>3971</td>\n",
       "      <td>3971</td>\n",
       "      <td>US Air Force</td>\n",
       "      <td>SLC-20, Cape Canaveral AFS, Florida, USA</td>\n",
       "      <td>Thu May 06, 1965 15:00 UTC</td>\n",
       "      <td>Titan IIIA | LES 2 &amp; LCS 1</td>\n",
       "      <td>StatusRetired</td>\n",
       "      <td>63.23</td>\n",
       "      <td>Success</td>\n",
       "    </tr>\n",
       "    <tr>\n",
       "      <th>3993</th>\n",
       "      <td>3993</td>\n",
       "      <td>3993</td>\n",
       "      <td>US Air Force</td>\n",
       "      <td>SLC-20, Cape Canaveral AFS, Florida, USA</td>\n",
       "      <td>Thu Feb 11, 1965 15:19 UTC</td>\n",
       "      <td>Titan IIIA | LES 1</td>\n",
       "      <td>StatusRetired</td>\n",
       "      <td>63.23</td>\n",
       "      <td>Success</td>\n",
       "    </tr>\n",
       "    <tr>\n",
       "      <th>4000</th>\n",
       "      <td>4000</td>\n",
       "      <td>4000</td>\n",
       "      <td>US Air Force</td>\n",
       "      <td>SLC-20, Cape Canaveral AFS, Florida, USA</td>\n",
       "      <td>Thu Dec 10, 1964 16:52 UTC</td>\n",
       "      <td>Titan IIIA | Transtage 2</td>\n",
       "      <td>StatusRetired</td>\n",
       "      <td>63.23</td>\n",
       "      <td>Success</td>\n",
       "    </tr>\n",
       "    <tr>\n",
       "      <th>4020</th>\n",
       "      <td>4020</td>\n",
       "      <td>4020</td>\n",
       "      <td>US Air Force</td>\n",
       "      <td>SLC-20, Cape Canaveral AFS, Florida, USA</td>\n",
       "      <td>Tue Sep 01, 1964 15:00 UTC</td>\n",
       "      <td>Titan IIIA | Transtage 1</td>\n",
       "      <td>StatusRetired</td>\n",
       "      <td>63.23</td>\n",
       "      <td>Failure</td>\n",
       "    </tr>\n",
       "  </tbody>\n",
       "</table>\n",
       "<p>964 rows × 9 columns</p>\n",
       "</div>"
      ],
      "text/plain": [
       "      Unnamed: 0  Unnamed: 0.1  Company Name  \\\n",
       "0              0             0        SpaceX   \n",
       "1              1             1          CASC   \n",
       "3              3             3     Roscosmos   \n",
       "4              4             4           ULA   \n",
       "5              5             5          CASC   \n",
       "...          ...           ...           ...   \n",
       "3855        3855          3855  US Air Force   \n",
       "3971        3971          3971  US Air Force   \n",
       "3993        3993          3993  US Air Force   \n",
       "4000        4000          4000  US Air Force   \n",
       "4020        4020          4020  US Air Force   \n",
       "\n",
       "                                               Location  \\\n",
       "0            LC-39A, Kennedy Space Center, Florida, USA   \n",
       "1     Site 9401 (SLS-2), Jiuquan Satellite Launch Ce...   \n",
       "3          Site 200/39, Baikonur Cosmodrome, Kazakhstan   \n",
       "4              SLC-41, Cape Canaveral AFS, Florida, USA   \n",
       "5          LC-9, Taiyuan Satellite Launch Center, China   \n",
       "...                                                 ...   \n",
       "3855            SLC-4W, Vandenberg AFB, California, USA   \n",
       "3971           SLC-20, Cape Canaveral AFS, Florida, USA   \n",
       "3993           SLC-20, Cape Canaveral AFS, Florida, USA   \n",
       "4000           SLC-20, Cape Canaveral AFS, Florida, USA   \n",
       "4020           SLC-20, Cape Canaveral AFS, Florida, USA   \n",
       "\n",
       "                           Datum  \\\n",
       "0     Fri Aug 07, 2020 05:12 UTC   \n",
       "1     Thu Aug 06, 2020 04:01 UTC   \n",
       "3     Thu Jul 30, 2020 21:25 UTC   \n",
       "4     Thu Jul 30, 2020 11:50 UTC   \n",
       "5     Sat Jul 25, 2020 03:13 UTC   \n",
       "...                          ...   \n",
       "3855  Fri Jul 29, 1966 18:43 UTC   \n",
       "3971  Thu May 06, 1965 15:00 UTC   \n",
       "3993  Thu Feb 11, 1965 15:19 UTC   \n",
       "4000  Thu Dec 10, 1964 16:52 UTC   \n",
       "4020  Tue Sep 01, 1964 15:00 UTC   \n",
       "\n",
       "                                                 Detail  Status Rocket  \\\n",
       "0          Falcon 9 Block 5 | Starlink V1 L9 & BlackSky   StatusActive   \n",
       "1                   Long March 2D | Gaofen-9 04 & Q-SAT   StatusActive   \n",
       "3          Proton-M/Briz-M | Ekspress-80 & Ekspress-103   StatusActive   \n",
       "4                            Atlas V 541 | Perseverance   StatusActive   \n",
       "5     Long March 4B | Ziyuan-3 03, Apocalypse-10 & N...   StatusActive   \n",
       "...                                                 ...            ...   \n",
       "3855                                  Titan IIIB | KH-8  StatusRetired   \n",
       "3971                         Titan IIIA | LES 2 & LCS 1  StatusRetired   \n",
       "3993                                 Titan IIIA | LES 1  StatusRetired   \n",
       "4000                           Titan IIIA | Transtage 2  StatusRetired   \n",
       "4020                           Titan IIIA | Transtage 1  StatusRetired   \n",
       "\n",
       "      Rocket Status Mission  \n",
       "0      50.0         Success  \n",
       "1     29.75         Success  \n",
       "3      65.0         Success  \n",
       "4     145.0         Success  \n",
       "5     64.68         Success  \n",
       "...      ...            ...  \n",
       "3855   59.0         Success  \n",
       "3971  63.23         Success  \n",
       "3993  63.23         Success  \n",
       "4000  63.23         Success  \n",
       "4020  63.23         Failure  \n",
       "\n",
       "[964 rows x 9 columns]"
      ]
     },
     "execution_count": 120,
     "metadata": {},
     "output_type": "execute_result"
    }
   ],
   "source": [
    "import  numpy as np\n",
    "import pandas as pd \n",
    "import matplotlib .pyplot as plt\n",
    "\n",
    "dataframe = pd.read_csv(\"space_Corrected.csv\")\n",
    "df=dataframe.dropna()\n",
    "\n",
    "df"
   ]
  },
  {
   "cell_type": "code",
   "execution_count": 119,
   "metadata": {},
   "outputs": [
    {
     "name": "stdout",
     "output_type": "stream",
     "text": [
      "       Company Name  Status Mission\n",
      "0       Arianespace              96\n",
      "1            Boeing               7\n",
      "2              CASC             158\n",
      "3               EER               1\n",
      "4               ESA               1\n",
      "5          Eurockot              13\n",
      "6            ExPace               1\n",
      "7               ILS              13\n",
      "8              ISRO              67\n",
      "9              JAXA               3\n",
      "10        Kosmotras              22\n",
      "11         Lockheed               8\n",
      "12              MHI              37\n",
      "13  Martin Marietta               9\n",
      "14             NASA             149\n",
      "15         Northrop              83\n",
      "16        RVSN USSR               2\n",
      "17       Rocket Lab              13\n",
      "18        Roscosmos              23\n",
      "19           Sandia               1\n",
      "20           SpaceX              99\n",
      "21              ULA              98\n",
      "22     US Air Force              26\n",
      "23           VKS RF              33\n",
      "24     Virgin Orbit               1\n"
     ]
    },
    {
     "data": {
      "text/plain": [
       "<BarContainer object of 25 artists>"
      ]
     },
     "execution_count": 119,
     "metadata": {},
     "output_type": "execute_result"
    },
    {
     "data": {
      "image/png": "[encoded data removed]",
      "text/plain": [
       "<Figure size 1152x576 with 1 Axes>"
      ]
     },
     "metadata": {
      "needs_background": "light"
     },
     "output_type": "display_data"
    }
   ],
   "source": [
    "#Activity-1\n",
    "#Find total number of missions by each company, and plot a bar graph on it\n",
    "#First group by Company Name and count Status Mission and create a new dataframe out of it\n",
    "group_by_name = df.groupby('Company Name')['Status Mission'].count().reset_index()\n",
    "print(group_by_name)\n",
    "fig = plt.subplots(figsize=(16,8))\n",
    "plt.title('Total Missions (Since 1957)', fontsize=20)\n",
    "plt.xlabel('Company Name', fontsize=16)\n",
    "plt.ylabel('Mission Counts', fontsize=16)\n",
    "plt.xticks(rotation='vertical')\n",
    "\n",
    "#Then get all the Company Name and Status Mission count and use these 2 values to plot a bar graph \n",
    "label = group_by_name['Company Name']\n",
    "value = group_by_name['Status Mission']\n",
    "plt.bar(label, value,width=0.4, color=('red','blue','green','pink','yellow')) #bar-grap\n"
   ]
  },
  {
   "cell_type": "code",
   "execution_count": 118,
   "metadata": {},
   "outputs": [
    {
     "name": "stdout",
     "output_type": "stream",
     "text": [
      "      Status Mission  Status Rocket\n",
      "0            Failure             36\n",
      "1    Partial Failure             17\n",
      "2  Prelaunch Failure              1\n",
      "3            Success            910\n"
     ]
    },
    {
     "data": {
      "image/png": "[encoded data removed]",
      "text/plain": [
       "<Figure size 432x288 with 1 Axes>"
      ]
     },
     "metadata": {},
     "output_type": "display_data"
    }
   ],
   "source": [
    "#Activity-2\n",
    "#Find out the percentage of rocket Success, Failure, Partial Failure, and Prelaunch Failure. And plot a pie chart\n",
    "\n",
    "group_by_status = df.groupby('Status Mission')['Status Rocket'].count().reset_index()\n",
    "print(group_by_status)\n",
    "value = group_by_status['Status Rocket']\n",
    "label = group_by_status['Status Mission']\n",
    "plt.pie(value,labels=label, autopct='%0.1f%%', radius=2)\n",
    "plt.show()\n"
   ]
  },
  {
   "cell_type": "code",
   "execution_count": 117,
   "metadata": {},
   "outputs": [
    {
     "name": "stdout",
     "output_type": "stream",
     "text": [
      "    Company Name  Status Rocket\n",
      "0    Arianespace             93\n",
      "1         Boeing              1\n",
      "2           CASC            158\n",
      "3            ESA              1\n",
      "4         ExPace              1\n",
      "5            ILS             13\n",
      "6           ISRO             49\n",
      "7           JAXA              3\n",
      "8            MHI             28\n",
      "9       Northrop             63\n",
      "10    Rocket Lab             13\n",
      "11     Roscosmos             23\n",
      "12        Sandia              1\n",
      "13        SpaceX             37\n",
      "14           ULA             86\n",
      "15        VKS RF             15\n",
      "16  Virgin Orbit              1\n"
     ]
    },
    {
     "data": {
      "text/plain": [
       "<BarContainer object of 17 artists>"
      ]
     },
     "execution_count": 117,
     "metadata": {},
     "output_type": "execute_result"
    },
    {
     "data": {
      "image/png": "[encoded data removed]",
      "text/plain": [
       "<Figure size 1152x576 with 1 Axes>"
      ]
     },
     "metadata": {
      "needs_background": "light"
     },
     "output_type": "display_data"
    }
   ],
   "source": [
    "#Activity-3\n",
    "# Find the number of Active Rockets as per the company and plot a bar grap of it\n",
    "\n",
    "#First search where Status Rocket column value is equal to StatusActive\n",
    "search_StatusActive= df.loc[df['Status Rocket'] == 'StatusActive']\n",
    "\n",
    "#Then group by Company Name and count Status Rocket and create a new dataframe out of it\n",
    "group_by_status = search_StatusActive.groupby('Company Name')['Status Rocket'].count().reset_index()\n",
    "print(group_by_status)\n",
    "fig = plt.subplots(figsize=(16,8))\n",
    "plt.xlabel(\"Company Name\")\n",
    "plt.xticks(rotation='vertical')\n",
    "plt.ylabel(\"Number Of Activie Rockets\")\n",
    "\n",
    "#Then get all the Company Name and Status Rocket count and use these 2 values to plot a bar graph \n",
    "label = group_by_status['Company Name']\n",
    "value = group_by_status['Status Rocket']\n",
    "\n",
    "plt.bar(label, value,width=0.4, color=('red','blue','green','pink','yellow')) #bar-grap"
   ]
  },
  {
   "cell_type": "code",
   "execution_count": null,
   "metadata": {},
   "outputs": [],
   "source": []
  },
  {
   "cell_type": "code",
   "execution_count": null,
   "metadata": {},
   "outputs": [],
   "source": []
  },
  {
   "cell_type": "code",
   "execution_count": null,
   "metadata": {},
   "outputs": [],
   "source": []
  },
  {
   "cell_type": "code",
   "execution_count": null,
   "metadata": {},
   "outputs": [],
   "source": []
  },
  {
   "cell_type": "code",
   "execution_count": null,
   "metadata": {},
   "outputs": [],
   "source": []
  }
 ],
 "metadata": {
  "kernelspec": {
   "display_name": "Python 3 (ipykernel)",
   "language": "python",
   "name": "python3"
  },
  "language_info": {
   "codemirror_mode": {
    "name": "ipython",
    "version": 3
   },
   "file_extension": ".py",
   "mimetype": "text/x-python",
   "name": "python",
   "nbconvert_exporter": "python",
   "pygments_lexer": "ipython3",
   "version": "3.11.3"
  }
 },
 "nbformat": 4,
 "nbformat_minor": 4
}
